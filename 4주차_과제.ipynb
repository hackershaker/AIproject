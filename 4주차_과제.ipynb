{
  "nbformat": 4,
  "nbformat_minor": 0,
  "metadata": {
    "colab": {
      "name": "4주차_과제.ipynb",
      "provenance": [],
      "collapsed_sections": [],
      "include_colab_link": true
    },
    "kernelspec": {
      "name": "python3",
      "display_name": "Python 3"
    }
  },
  "cells": [
    {
      "cell_type": "markdown",
      "metadata": {
        "id": "view-in-github",
        "colab_type": "text"
      },
      "source": [
        "<a href=\"https://colab.research.google.com/github/hackershaker/AIproject/blob/master/4%EC%A3%BC%EC%B0%A8_%EA%B3%BC%EC%A0%9C.ipynb\" target=\"_parent\"><img src=\"https://colab.research.google.com/assets/colab-badge.svg\" alt=\"Open In Colab\"/></a>"
      ]
    },
    {
      "cell_type": "markdown",
      "metadata": {
        "id": "wxkL6PjwsI6L",
        "colab_type": "text"
      },
      "source": [
        "# 4주차 과제\n",
        "- 용어 정리\n",
        "- 딥러닝 강의 클론 코딩\n",
        "- 딥러닝 순전파 & 역전파 계산"
      ]
    },
    {
      "cell_type": "markdown",
      "metadata": {
        "id": "ixEtDe6_uGgI",
        "colab_type": "text"
      },
      "source": [
        "## 1. 용어 정리\n",
        "\n",
        "다음 제시된 단어의 정의(설명)를 정리하여 작성 하세요.\n",
        "\n",
        "* 2문장 이상 작성 해 주세요. \n",
        "* 주제(단어)와 크게 벗어나지만 않는다면 정답처리 됩니다.\n",
        "* 강의 뿐 아니라 기타 레퍼런스를 참고하여 작성하셔도 됩니다. (기타 레퍼런스를 참고하신 경우, 해당 레퍼런스를 정리하여 하단에 작성해 주세요.)\n"
      ]
    },
    {
      "cell_type": "markdown",
      "metadata": {
        "id": "0lfwat8eurKZ",
        "colab_type": "text"
      },
      "source": [
        "__(예시)__\n",
        "### 심층 신경망\n",
        ": 입력층과 출력층 사이에 여러 개의 은닉층들로 이뤄진 인공신경망이다. 심층 신경망은 일반적으로 인공신경망과 마찬가지로 복잡한 비선형 관계들을 모델링 할 수 있다. 신층신경망의 목적은 분류 및 수치예측을 하기 위함이고 이미지 트레이닝이나 문자인식과 같은 분야에서 매우 유용하게 쓰이고 있다."
      ]
    },
    {
      "cell_type": "markdown",
      "metadata": {
        "id": "Y8YJNKG_v65A",
        "colab_type": "text"
      },
      "source": [
        "### MCP 뉴런\n",
        ": 1943년 신경과학자 Warren S. McCulloch과 논리학자 Walter Pitts가 발표한 간소화된 뉴런 개념이다. 여러개의 입력 신호가 Dendrite에 도착하면 이들을 하나의 신호로 통합하여 신호값이 임계값을 넘을 경우 다음 뉴런으로 출력신호를 전달하는 뉴런 모델\n",
        "\n",
        "### 퍼셉트론\n",
        ": 1957년 Frank Rosenblatt이 MCP 뉴런 모델을 기초로 고안한 개념이다. 입력값과 가중치를 곱해 합한 입력값이 임계값을 넘을 경우 활성함수가 출력값을 리턴하게 되고, 이 값이 예측값과 다를 경우 가중치 값을 학습하게 되는 알고리즘이다. 입력층, 출력층, 중간층으로 이루어져 있으며 중간층이 여러 층으로 구성되어 있을 경우 다층 퍼셉트론으로 불린다. 딥 러닝에서는 이러한 다층 퍼셉트론을 학습한다. \n",
        "\n",
        "### 역전파\n",
        ": 신경망의 가중치를 보다 효율적으로 조정하기 위하여 거꾸로 무엇인가를 전파하는 방식으로 출력 데이터와 기대 출력값의 오차를 통해 출력층에서 입력층 쪽으로 가중치를 조정하는 것이다. 기대 출력값이 나오게 하기 위해 은닉층의 가중치와 편향 중 더 큰 값을 조정한다. 역전파로 가중치를 조정하는 방법은 다층 퍼셉트론의 출력층 쪽에 가까운 층은 잘 학습이 되나 입력층으로 갈수록 학습이 잘 되지 않는 기울기 소멸 문제를 가지고 있다. \n",
        "\n",
        "### 강화학습\n",
        ": 에이전트가 특정한 환경에서 어떠한 행동을 해야 최대의 보상을 얻는지 탐구하는 알고리즘이다. 강화학습은 정답 레이블으로 학습할 수 없는 문제들, 게임이론, 시뮬레이션 기반 최적화, 유전 알고리즘 분야 등 폭넓은 곳에서 연구된다. 강화학습은 의사결정 과정을 수학적으로 모델링한 Markov Decision Process를 틀로 하여 진행된다. \n",
        "\n",
        "### 과적합\n",
        ": 학습데이터를 과하게 학습시켰을 때 나타내는 문제점이다. 학습된 알고리즘이 학습 데이터에는 잘 맞지만 실제 데이터에 적용하였을 시 오차가 증가하게 된다. 학습 데이터의 양을 늘리거나 그래프를 정규화해주는 방법 등으로 문제를 완화할 수 있다.\n",
        "\n",
        "### 차원의 저주\n",
        ": 변수가 증가함에 따라 분석이 요구되는 데이터 건수도 증가하게 된다. 이는 데이터 공간을 채우는 비율이 작아지는 결과를 가져오고 인공지능의 성능이 저하된다. 이를 해결하기 위해 일반적으로 차원 축소 방법을 사용한다. \n",
        "\n",
        "#### reference\n",
        "\n",
        "* https://m.blog.naver.com/PostView.nhn?blogId=samsjang&logNo=220948258166&proxyReferer=https:%2F%2Fwww.google.com%2F\n",
        "\n",
        "* https://m.blog.naver.com/samsjang/221033626685\n",
        "\n",
        "* http://www.secmem.org/blog/2019/12/15/RL-key-concepts/\n",
        "\n",
        "* https://kkokkilkon.tistory.com/127"
      ]
    },
    {
      "cell_type": "markdown",
      "metadata": {
        "id": "d-zfFXLCy6jD",
        "colab_type": "text"
      },
      "source": [
        "## 2. 딥러닝 강의 클론 코딩\n",
        "\n",
        "####__퍼셉트론 구조 구현하기__ \n",
        "딥러닝 강의(__딥러닝 원리[1] 3:15 ~ 5:15 부분__)를 보고 코드를 따라 치며 출력 결과를 만드세요.\n",
        " \n",
        "\n",
        "* 하나의 코드셀에 해당 코드를 한번에 다 적어서 실행해주세요 (__그렇게 하지 않을 경우, 아래 이미지와 같은 출력값이 나오지 않을 수 있습니다__)\n",
        "\n",
        "*__주의!__ 실제로 코딩해서 출력해보면 강의에 나온 출력 결과와 다르게 나옵니다!!\n"
      ]
    },
    {
      "cell_type": "markdown",
      "metadata": {
        "id": "wcc5mzI9oZ7r",
        "colab_type": "text"
      },
      "source": [
        "![대체 텍스트](https://www.notion.so/image/https%3A%2F%2Fs3-us-west-2.amazonaws.com%2Fsecure.notion-static.com%2F0cceeed0-0235-4b0f-af88-0b8c377d5b4b%2F_2020-06-09__9.35.23.png?table=block&id=88fd8912-9356-49a4-9fda-a1a63fe96ea9&width=2870&cache=v2)"
      ]
    },
    {
      "cell_type": "code",
      "metadata": {
        "id": "DRRoUrahlhCB",
        "colab_type": "code",
        "outputId": "0a2c4789-4cb5-41b0-a68a-4dd8a2a48487",
        "colab": {
          "base_uri": "https://localhost:8080/",
          "height": 210
        }
      },
      "source": [
        "import tensorflow as tf\n",
        "tf.compat.v1.set_random_seed(2020)\n",
        "x=1 #입력\n",
        "y=0 #출력\n",
        "w=tf.random.normal([1],0,1) #가중치는 0과1사이의 랜덤한 값\n",
        "\n",
        "import math #활성화 함수로 시그모이드 함수 이용\n",
        "def sigmoid(x):\n",
        "  return 1/(1+math.exp(-x))\n",
        "\n",
        "output = sigmoid(x*w)\n",
        "print(output)\n",
        "\n",
        "for i in range(1000):\n",
        "  output = sigmoid(x*w)\n",
        "  error = y - output #기대 출력과 실제 출력의 오차를 구함\n",
        "  w = w + x*0.1*error #경사하강법 적용, 학습률 0.1적용\n",
        "\n",
        "  if i % 100 == 99:\n",
        "    print(\"학습 횟수:\",i,\"Error:\",error,\"예측 결과:\",output)"
      ],
      "execution_count": 1,
      "outputs": [
        {
          "output_type": "stream",
          "text": [
            "0.47477188589261\n",
            "학습 횟수: 99 Error: -0.10010598284299604 예측 결과: 0.10010598284299604\n",
            "학습 횟수: 199 Error: -0.05178399422833116 예측 결과: 0.05178399422833116\n",
            "학습 횟수: 299 Error: -0.034590451977903586 예측 결과: 0.034590451977903586\n",
            "학습 횟수: 399 Error: -0.02588962752851373 예측 결과: 0.02588962752851373\n",
            "학습 횟수: 499 Error: -0.020658699939863617 예측 결과: 0.020658699939863617\n",
            "학습 횟수: 599 Error: -0.017174253993457355 예측 결과: 0.017174253993457355\n",
            "학습 횟수: 699 Error: -0.014689506449480992 예측 결과: 0.014689506449480992\n",
            "학습 횟수: 799 Error: -0.012829497265431342 예측 결과: 0.012829497265431342\n",
            "학습 횟수: 899 Error: -0.011385568271837804 예측 결과: 0.011385568271837804\n",
            "학습 횟수: 999 Error: -0.010232493309882492 예측 결과: 0.010232493309882492\n"
          ],
          "name": "stdout"
        }
      ]
    },
    {
      "cell_type": "markdown",
      "metadata": {
        "id": "kr0HVRk8fOom",
        "colab_type": "text"
      },
      "source": [
        "## 3. 딥러닝 순전파 & 역전파 계산\n",
        "\n",
        "딥러닝 강의(__딥러닝 원리[2] 0:55 ~ 4:32 부분__)에 나오는 순전파 & 역전파 계산에 대한 문제 입니다.\n",
        "\n",
        "해당 영상과 다음 이미지를 참고하여 다음 2가지 물음에 답하세요.\n",
        "\n",
        "\n",
        "(1) 학습률이 0.2 일 경우 출력층의 노드값\n",
        "\n",
        "(2) 학습률이 0.1과 0.2 중 기대출력값이 지도데이터 \"3\"과 더 가까운 학습률은?"
      ]
    },
    {
      "cell_type": "markdown",
      "metadata": {
        "id": "CpwPFWhOUzww",
        "colab_type": "text"
      },
      "source": [
        "![대체 텍스트](https://www.notion.so/image/https%3A%2F%2Fs3-us-west-2.amazonaws.com%2Fsecure.notion-static.com%2Ff54dfd45-92ec-44ae-9616-6949d2484a45%2F_2020-06-10__5.22.03.png?table=block&id=ee05da89-3ceb-4ad9-a2d3-c9f68d24d1d9&width=3580&cache=v2)"
      ]
    },
    {
      "cell_type": "markdown",
      "metadata": {
        "id": "B2OVY7w5U3CI",
        "colab_type": "text"
      },
      "source": [
        "## (1) 학습률이 0.2 일 경우 출력층의 노드값 : 1.6\n",
        "## (2) 학습률이 0.1과 0.2 중 기대출력값이 지도데이터 \"3\"과 더 가까운 학습률은? : 0.1"
      ]
    }
  ]
}